{
 "cells": [
  {
   "cell_type": "code",
   "execution_count": null,
   "id": "ceb3ef74",
   "metadata": {},
   "outputs": [],
   "source": [
    "##Q.1."
   ]
  },
  {
   "cell_type": "code",
   "execution_count": 1,
   "id": "42cb7215",
   "metadata": {},
   "outputs": [],
   "source": [
    "x=7"
   ]
  },
  {
   "cell_type": "code",
   "execution_count": 2,
   "id": "9ab76b0d",
   "metadata": {},
   "outputs": [],
   "source": [
    "y=4"
   ]
  },
  {
   "cell_type": "code",
   "execution_count": 3,
   "id": "c511515b",
   "metadata": {},
   "outputs": [],
   "source": [
    "z=x**y"
   ]
  },
  {
   "cell_type": "code",
   "execution_count": 4,
   "id": "221f574d",
   "metadata": {},
   "outputs": [
    {
     "data": {
      "text/plain": [
       "2401"
      ]
     },
     "execution_count": 4,
     "metadata": {},
     "output_type": "execute_result"
    }
   ],
   "source": [
    "z"
   ]
  },
  {
   "cell_type": "code",
   "execution_count": 5,
   "id": "32e2be4c",
   "metadata": {},
   "outputs": [],
   "source": [
    "## Q.2."
   ]
  },
  {
   "cell_type": "code",
   "execution_count": 6,
   "id": "9b49901b",
   "metadata": {},
   "outputs": [],
   "source": [
    "s = \"Hi there Yogesh!\""
   ]
  },
  {
   "cell_type": "code",
   "execution_count": 8,
   "id": "8b513394",
   "metadata": {},
   "outputs": [
    {
     "data": {
      "text/plain": [
       "['Hi', 'there', 'Yogesh!']"
      ]
     },
     "execution_count": 8,
     "metadata": {},
     "output_type": "execute_result"
    }
   ],
   "source": [
    "s.split()"
   ]
  },
  {
   "cell_type": "code",
   "execution_count": 9,
   "id": "9ffb597e",
   "metadata": {},
   "outputs": [],
   "source": [
    "## Q.3"
   ]
  },
  {
   "cell_type": "code",
   "execution_count": 10,
   "id": "07730b7e",
   "metadata": {},
   "outputs": [],
   "source": [
    "planet = \"Earth\"\n",
    "diameter = 12742"
   ]
  },
  {
   "cell_type": "code",
   "execution_count": 11,
   "id": "61c20251",
   "metadata": {},
   "outputs": [
    {
     "data": {
      "text/plain": [
       "'The diameter of Earth is 12742 kilometers'"
      ]
     },
     "execution_count": 11,
     "metadata": {},
     "output_type": "execute_result"
    }
   ],
   "source": [
    "\"The diameter of {a} is {b} kilometers\".format(a=planet,b=12742)"
   ]
  },
  {
   "cell_type": "code",
   "execution_count": 12,
   "id": "4a429989",
   "metadata": {},
   "outputs": [],
   "source": [
    "## Q.4"
   ]
  },
  {
   "cell_type": "code",
   "execution_count": 13,
   "id": "0b16f475",
   "metadata": {},
   "outputs": [],
   "source": [
    "lst = [1,2,[3,4],[5,[100,200,['hello']],23,11],1,7]"
   ]
  },
  {
   "cell_type": "code",
   "execution_count": 16,
   "id": "741825ac",
   "metadata": {},
   "outputs": [
    {
     "data": {
      "text/plain": [
       "[100, 200, ['hello']]"
      ]
     },
     "execution_count": 16,
     "metadata": {},
     "output_type": "execute_result"
    }
   ],
   "source": [
    "lst[3][1]"
   ]
  },
  {
   "cell_type": "code",
   "execution_count": 17,
   "id": "182aca73",
   "metadata": {},
   "outputs": [
    {
     "data": {
      "text/plain": [
       "['hello']"
      ]
     },
     "execution_count": 17,
     "metadata": {},
     "output_type": "execute_result"
    }
   ],
   "source": [
    "lst[3][1][2]"
   ]
  },
  {
   "cell_type": "code",
   "execution_count": 18,
   "id": "e83b744b",
   "metadata": {},
   "outputs": [],
   "source": [
    "## Q.5"
   ]
  },
  {
   "cell_type": "code",
   "execution_count": 19,
   "id": "3a825237",
   "metadata": {},
   "outputs": [],
   "source": [
    "d = {'k1':[1,2,3,{'tricky':['oh','man','inception',{'target':[1,2,3,'hello']}]}]}"
   ]
  },
  {
   "cell_type": "code",
   "execution_count": 20,
   "id": "95fb75ac",
   "metadata": {},
   "outputs": [
    {
     "data": {
      "text/plain": [
       "{'tricky': ['oh', 'man', 'inception', {'target': [1, 2, 3, 'hello']}]}"
      ]
     },
     "execution_count": 20,
     "metadata": {},
     "output_type": "execute_result"
    }
   ],
   "source": [
    "d['k1'][3]"
   ]
  },
  {
   "cell_type": "code",
   "execution_count": 21,
   "id": "3f705f17",
   "metadata": {},
   "outputs": [
    {
     "data": {
      "text/plain": [
       "{'target': [1, 2, 3, 'hello']}"
      ]
     },
     "execution_count": 21,
     "metadata": {},
     "output_type": "execute_result"
    }
   ],
   "source": [
    "d['k1'][3]['tricky'][3]"
   ]
  },
  {
   "cell_type": "code",
   "execution_count": 22,
   "id": "cf47d1a3",
   "metadata": {},
   "outputs": [
    {
     "data": {
      "text/plain": [
       "'hello'"
      ]
     },
     "execution_count": 22,
     "metadata": {},
     "output_type": "execute_result"
    }
   ],
   "source": [
    "d['k1'][3]['tricky'][3]['target'][3]"
   ]
  },
  {
   "cell_type": "code",
   "execution_count": 23,
   "id": "ad93c2d4",
   "metadata": {},
   "outputs": [],
   "source": [
    "## Q.6"
   ]
  },
  {
   "cell_type": "code",
   "execution_count": 28,
   "id": "b5217c09",
   "metadata": {},
   "outputs": [],
   "source": [
    "s=\"User@gmail.com\""
   ]
  },
  {
   "cell_type": "code",
   "execution_count": 29,
   "id": "6a3ddd4b",
   "metadata": {},
   "outputs": [
    {
     "data": {
      "text/plain": [
       "['User', 'gmail.com']"
      ]
     },
     "execution_count": 29,
     "metadata": {},
     "output_type": "execute_result"
    }
   ],
   "source": [
    "s.split(\"@\")"
   ]
  },
  {
   "cell_type": "code",
   "execution_count": 30,
   "id": "44666839",
   "metadata": {},
   "outputs": [],
   "source": [
    "list_1=s.split(\"@\")"
   ]
  },
  {
   "cell_type": "code",
   "execution_count": 31,
   "id": "cd3991ea",
   "metadata": {},
   "outputs": [
    {
     "data": {
      "text/plain": [
       "'gmail.com'"
      ]
     },
     "execution_count": 31,
     "metadata": {},
     "output_type": "execute_result"
    }
   ],
   "source": [
    "list_1[1]"
   ]
  },
  {
   "cell_type": "code",
   "execution_count": null,
   "id": "5c8c3896",
   "metadata": {},
   "outputs": [],
   "source": []
  },
  {
   "cell_type": "code",
   "execution_count": 32,
   "id": "6c8ce153",
   "metadata": {},
   "outputs": [],
   "source": [
    "## Q.7"
   ]
  },
  {
   "cell_type": "code",
   "execution_count": null,
   "id": "ec8d352f",
   "metadata": {},
   "outputs": [],
   "source": [
    "data='Is there a dog here?'"
   ]
  },
  {
   "cell_type": "code",
   "execution_count": 42,
   "id": "d5e3f3f0",
   "metadata": {},
   "outputs": [
    {
     "data": {
      "text/plain": [
       "['Is', 'there', 'a', 'dog', 'here?']"
      ]
     },
     "execution_count": 42,
     "metadata": {},
     "output_type": "execute_result"
    }
   ],
   "source": [
    "data.split()"
   ]
  },
  {
   "cell_type": "code",
   "execution_count": 43,
   "id": "6c0bfd98",
   "metadata": {},
   "outputs": [],
   "source": [
    "list_1=data.split()"
   ]
  },
  {
   "cell_type": "code",
   "execution_count": 44,
   "id": "ff2e18d5",
   "metadata": {},
   "outputs": [
    {
     "data": {
      "text/plain": [
       "1"
      ]
     },
     "execution_count": 44,
     "metadata": {},
     "output_type": "execute_result"
    }
   ],
   "source": [
    "list_1.count('dog')"
   ]
  },
  {
   "cell_type": "code",
   "execution_count": 45,
   "id": "5ed33947",
   "metadata": {},
   "outputs": [],
   "source": [
    "## Q.8"
   ]
  },
  {
   "cell_type": "code",
   "execution_count": 46,
   "id": "4e6439fa",
   "metadata": {},
   "outputs": [],
   "source": [
    "data='This dog runs faster than the other dog dude!'"
   ]
  },
  {
   "cell_type": "code",
   "execution_count": 50,
   "id": "e15bfd39",
   "metadata": {},
   "outputs": [
    {
     "data": {
      "text/plain": [
       "['This', 'dog', 'runs', 'faster', 'than', 'the', 'other', 'dog', 'dude!']"
      ]
     },
     "execution_count": 50,
     "metadata": {},
     "output_type": "execute_result"
    }
   ],
   "source": [
    "data.split()"
   ]
  },
  {
   "cell_type": "code",
   "execution_count": 49,
   "id": "d6b53cab",
   "metadata": {},
   "outputs": [],
   "source": [
    "list1=data.split()"
   ]
  },
  {
   "cell_type": "code",
   "execution_count": 55,
   "id": "a3c0c048",
   "metadata": {},
   "outputs": [
    {
     "data": {
      "text/plain": [
       "2"
      ]
     },
     "execution_count": 55,
     "metadata": {},
     "output_type": "execute_result"
    }
   ],
   "source": [
    "list1.count('dog')"
   ]
  },
  {
   "cell_type": "code",
   "execution_count": 63,
   "id": "5e119977",
   "metadata": {},
   "outputs": [],
   "source": [
    "x=data.find(\"dog\")"
   ]
  },
  {
   "cell_type": "code",
   "execution_count": 64,
   "id": "cee50f23",
   "metadata": {},
   "outputs": [
    {
     "name": "stdout",
     "output_type": "stream",
     "text": [
      "5\n"
     ]
    }
   ],
   "source": [
    "print(x)"
   ]
  },
  {
   "cell_type": "code",
   "execution_count": 71,
   "id": "1e54c21f",
   "metadata": {},
   "outputs": [
    {
     "name": "stdout",
     "output_type": "stream",
     "text": [
      "True\n"
     ]
    }
   ],
   "source": [
    "if x>1:\n",
    "    print(\"True\")\n",
    "else:\n",
    "    print(\"False\")"
   ]
  },
  {
   "cell_type": "code",
   "execution_count": 77,
   "id": "bb134463",
   "metadata": {},
   "outputs": [],
   "source": [
    "x=data.find(\"Dog\")"
   ]
  },
  {
   "cell_type": "code",
   "execution_count": 78,
   "id": "24661c5a",
   "metadata": {},
   "outputs": [
    {
     "name": "stdout",
     "output_type": "stream",
     "text": [
      "-1\n"
     ]
    }
   ],
   "source": [
    "print(x)"
   ]
  },
  {
   "cell_type": "code",
   "execution_count": 79,
   "id": "5ccbed87",
   "metadata": {},
   "outputs": [
    {
     "name": "stdout",
     "output_type": "stream",
     "text": [
      "False\n"
     ]
    }
   ],
   "source": [
    "if x>1:\n",
    "    print(\"True\")\n",
    "else:\n",
    "    print(\"False\")"
   ]
  },
  {
   "cell_type": "code",
   "execution_count": null,
   "id": "7c3ce28b",
   "metadata": {},
   "outputs": [],
   "source": []
  },
  {
   "cell_type": "code",
   "execution_count": 80,
   "id": "8f82be68",
   "metadata": {},
   "outputs": [],
   "source": [
    "## Q.9"
   ]
  },
  {
   "cell_type": "code",
   "execution_count": 81,
   "id": "ea15f897",
   "metadata": {},
   "outputs": [],
   "source": [
    "seq = ['soup','dog','salad','cat','great']"
   ]
  },
  {
   "cell_type": "code",
   "execution_count": 89,
   "id": "6d5f6d86",
   "metadata": {},
   "outputs": [
    {
     "data": {
      "text/plain": [
       "['soup', 'dog', 'salad', 'cat', 'great']"
      ]
     },
     "execution_count": 89,
     "metadata": {},
     "output_type": "execute_result"
    }
   ],
   "source": [
    "seq"
   ]
  },
  {
   "cell_type": "code",
   "execution_count": 90,
   "id": "e3d51809",
   "metadata": {},
   "outputs": [
    {
     "data": {
      "text/plain": [
       "<function __main__.<lambda>(a)>"
      ]
     },
     "execution_count": 90,
     "metadata": {},
     "output_type": "execute_result"
    }
   ],
   "source": [
    "lambda a: a[0]=='s'"
   ]
  },
  {
   "cell_type": "code",
   "execution_count": 92,
   "id": "1af91e9a",
   "metadata": {},
   "outputs": [
    {
     "data": {
      "text/plain": [
       "[True, False, True, False, False]"
      ]
     },
     "execution_count": 92,
     "metadata": {},
     "output_type": "execute_result"
    }
   ],
   "source": [
    "list(map(lambda a: a[0]=='s',seq))"
   ]
  },
  {
   "cell_type": "code",
   "execution_count": 93,
   "id": "7349a5b4",
   "metadata": {},
   "outputs": [
    {
     "data": {
      "text/plain": [
       "['soup', 'salad']"
      ]
     },
     "execution_count": 93,
     "metadata": {},
     "output_type": "execute_result"
    }
   ],
   "source": [
    "list(filter(lambda a: a[0]=='s',seq))"
   ]
  },
  {
   "cell_type": "code",
   "execution_count": 1,
   "id": "906101e2",
   "metadata": {},
   "outputs": [],
   "source": [
    "## Q.10"
   ]
  },
  {
   "cell_type": "code",
   "execution_count": 2,
   "id": "d1478792",
   "metadata": {},
   "outputs": [
    {
     "name": "stdout",
     "output_type": "stream",
     "text": [
      "Enter the input:-123abcd,  abcd456,   fdhfh78dsd89,   -56dssd78\n",
      "-123,  456,   7889,   5678\n"
     ]
    }
   ],
   "source": [
    "s=input(\"Enter the input:\")\n",
    "num=\"\"\n",
    "a=[0,1,2,3,4,5,6,7,8,9]\n",
    "if s[0]==\"-\":\n",
    "    num=num+s[0]\n",
    "for c in s:\n",
    "    if c in str(a):\n",
    "        num=num+c\n",
    "print(num)"
   ]
  },
  {
   "cell_type": "code",
   "execution_count": 3,
   "id": "3d734621",
   "metadata": {},
   "outputs": [],
   "source": [
    "## Q. 11"
   ]
  },
  {
   "cell_type": "code",
   "execution_count": 4,
   "id": "6c3946c3",
   "metadata": {},
   "outputs": [
    {
     "name": "stdout",
     "output_type": "stream",
     "text": [
      "Enterthe number264\n"
     ]
    }
   ],
   "source": [
    "num1=input(\"Enterthe number\")\n",
    "num2=int(num1[::-1])\n",
    "num3=int(num1)+num2"
   ]
  },
  {
   "cell_type": "code",
   "execution_count": 14,
   "id": "4603f549",
   "metadata": {},
   "outputs": [
    {
     "name": "stdout",
     "output_type": "stream",
     "text": [
      "Enter the number59\n",
      "Number is: 154451\n",
      "reverse is: 154451\n",
      "Palindrome is: 154451\n"
     ]
    }
   ],
   "source": [
    "num1=input(\"Enter the number\")\n",
    "num2=int(num1[::-1])\n",
    "num3=str(int(num1)+num2)\n",
    "while num3!=num3[::-1]:\n",
    "    num3=num3+num3[::-1]\n",
    "    print(\"Number is:\",num3)\n",
    "    print(\"reverse is:\",num3[::-1])\n",
    "    print(\"Palindrome is:\",num3)\n",
    "    "
   ]
  },
  {
   "cell_type": "code",
   "execution_count": 15,
   "id": "2a206f3a",
   "metadata": {},
   "outputs": [
    {
     "name": "stdout",
     "output_type": "stream",
     "text": [
      "Enter the number 93\n",
      "Number is: 132231\n",
      "reverse is: 132231\n",
      "Palindrome is: 132231\n"
     ]
    }
   ],
   "source": [
    "num1=input(\"Enter the number\")\n",
    "num2=int(num1[::-1])\n",
    "num3=str(int(num1)+num2)\n",
    "while num3!=num3[::-1]:\n",
    "    num3=num3+num3[::-1]\n",
    "    print(\"Number is:\",num3)\n",
    "    print(\"reverse is:\",num3[::-1])\n",
    "    print(\"Palindrome is:\",num3)\n",
    "    "
   ]
  },
  {
   "cell_type": "code",
   "execution_count": null,
   "id": "90fd10e9",
   "metadata": {},
   "outputs": [],
   "source": []
  }
 ],
 "metadata": {
  "kernelspec": {
   "display_name": "Python 3 (ipykernel)",
   "language": "python",
   "name": "python3"
  },
  "language_info": {
   "codemirror_mode": {
    "name": "ipython",
    "version": 3
   },
   "file_extension": ".py",
   "mimetype": "text/x-python",
   "name": "python",
   "nbconvert_exporter": "python",
   "pygments_lexer": "ipython3",
   "version": "3.9.7"
  }
 },
 "nbformat": 4,
 "nbformat_minor": 5
}
